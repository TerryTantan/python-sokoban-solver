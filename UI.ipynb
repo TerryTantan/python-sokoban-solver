{
 "cells": [
  {
   "cell_type": "code",
   "execution_count": 168,
   "metadata": {},
   "outputs": [],
   "source": [
    "import pygame\n",
    "import sys\n",
    "import os"
   ]
  },
  {
   "cell_type": "code",
   "execution_count": 169,
   "metadata": {},
   "outputs": [],
   "source": [
    "## game manage\n",
    "SIZE = WIDTH, HEIGHT = 1440, 810\n",
    "\n",
    "# maze manage\n",
    "N = 0\n",
    "M = 0\n",
    "ARES = []\n",
    "SOLUTIONS = \"\"\n",
    "MAZE = []\n",
    "STONES = []\n",
    "SWITCHES = []\n",
    "## texture manage\n",
    "DEFAULT_BLOCK_SIZE = 1440//20\n",
    "WALL_TEXTURE = pygame.transform.scale(pygame.image.load(\"textures\\\\snow.png\"), (DEFAULT_BLOCK_SIZE, DEFAULT_BLOCK_SIZE))\n",
    "SIDE_WALL_TEXTURE = pygame.transform.scale(pygame.image.load(\"textures\\\\side_snow.png\"), (DEFAULT_BLOCK_SIZE, DEFAULT_BLOCK_SIZE))\n",
    "STONE_TEXTURE = pygame.transform.scale(pygame.image.load(\"textures\\\\Crate_Brown.png\"), (DEFAULT_BLOCK_SIZE, DEFAULT_BLOCK_SIZE))\n",
    "SWITCH_TEXTURE = pygame.transform.scale(pygame.image.load(\"textures\\\\EndPoint_Beige.png\"), (DEFAULT_BLOCK_SIZE/2, DEFAULT_BLOCK_SIZE/2))\n",
    "FLOOR_TEXTURE = pygame.transform.scale(pygame.image.load(\"textures\\\\ice.png\"), (DEFAULT_BLOCK_SIZE, DEFAULT_BLOCK_SIZE))\n",
    "ARES_TEXTURE = pygame.transform.scale(pygame.image.load(\"textures\\\\ares1.png\"), (DEFAULT_BLOCK_SIZE, DEFAULT_BLOCK_SIZE))\n",
    "ARES_ON_SWITCH_TEXTURE = pygame.transform.scale(pygame.image.load(\"textures\\\\ares2.png\"), (DEFAULT_BLOCK_SIZE, DEFAULT_BLOCK_SIZE))\n",
    "STONE_ON_SWITCH_TEXTURE = pygame.transform.scale(pygame.image.load(\"textures\\\\Crate_Beige.png\"), (DEFAULT_BLOCK_SIZE, DEFAULT_BLOCK_SIZE))"
   ]
  },
  {
   "cell_type": "code",
   "execution_count": 170,
   "metadata": {},
   "outputs": [
    {
     "name": "stdout",
     "output_type": "stream",
     "text": [
      " ###########\n",
      "#$         #\n",
      "#          #\n",
      "# $ $      #\n",
      "#. @  +*  .#\n",
      "############\n",
      "6 12\n",
      "[[1, 1, False], [3, 2, False], [3, 4, False], [4, 7, 3]]\n",
      "[4, 6]\n",
      "[[4, 1, False], [4, 6, False], [4, 7, True], [4, 10, False]]\n",
      "lruw\n"
     ]
    }
   ],
   "source": [
    "def read_input(filename):\n",
    "    global N, M, ARES, SOLUTIONS, MAZE, STONES, SWITCHES\n",
    "    f = os.open(f\"input/{filename}\", os.O_RDWR)\n",
    "    s = os.read(f, 1000)\n",
    "    lines = s.decode().split(\"\\n\")\n",
    "    SOLUTIONS = lines[len(lines) - 1]\n",
    "    weights = [int(x) for x in lines[0].split(\" \")]\n",
    "    N = len(lines) - 2\n",
    "    M = len(lines[1])\n",
    "    MAZE.clear()\n",
    "    STONES.clear()\n",
    "    SWITCHES.clear()\n",
    "    for i in range(0, N):\n",
    "        MAZE.append([0] * M)\n",
    "        for j in range(M):\n",
    "            MAZE[i][j] = lines[i + 1][j]\n",
    "\n",
    "    for i in range(0, N):\n",
    "        for j in range(M):\n",
    "            if MAZE[i][j] == '#' or MAZE[i][j] == ' ':\n",
    "                continue\n",
    "            if MAZE[i][j] == '@':\n",
    "                ARES = [i, j]\n",
    "            if MAZE[i][j] == \"$\":\n",
    "                STONES.append([i,j, False])\n",
    "            if MAZE[i][j] == \".\": \n",
    "                SWITCHES.append([i,j, False])\n",
    "            if MAZE[i][j] == \"*\":\n",
    "                SWITCHES.append([i,j, True])\n",
    "                STONES.append([i,j, weights[len(STONES)]])\n",
    "            if MAZE[i][j] == \"+\":\n",
    "                ARES = [i,j]\n",
    "                SWITCHES.append([i,j, False])\n",
    "\n",
    "    os.close(f)\n",
    "    return\n",
    "\n",
    "read_input(\"input1.txt\")\n",
    "\n",
    "for row in MAZE:\n",
    "    print(\"\".join(row))\n",
    "print(N, M)\n",
    "print(STONES)\n",
    "print(ARES)\n",
    "print(SWITCHES)\n",
    "print(SOLUTIONS)\n"
   ]
  },
  {
   "cell_type": "code",
   "execution_count": 171,
   "metadata": {},
   "outputs": [],
   "source": [
    "def draw_maze(surface):\n",
    "    for i in range(0, N):\n",
    "        for j in range(0, M):\n",
    "            surface.blit(FLOOR_TEXTURE, (j * DEFAULT_BLOCK_SIZE, i * DEFAULT_BLOCK_SIZE))\n",
    "            if MAZE[i][j] == '#':\n",
    "                surface.blit(WALL_TEXTURE, (j * DEFAULT_BLOCK_SIZE, i * DEFAULT_BLOCK_SIZE))\n",
    "                if i + 1 == N or MAZE[i + 1][j] != '#':\n",
    "                    surface.blit(SIDE_WALL_TEXTURE, (j * DEFAULT_BLOCK_SIZE, i * DEFAULT_BLOCK_SIZE))\n",
    "            if MAZE[i][j] == '@':\n",
    "                surface.blit(ARES_TEXTURE, (j * DEFAULT_BLOCK_SIZE, i * DEFAULT_BLOCK_SIZE))\n",
    "            if MAZE[i][j] == '$':\n",
    "                surface.blit(STONE_TEXTURE, (j * DEFAULT_BLOCK_SIZE, i * DEFAULT_BLOCK_SIZE))\n",
    "            if MAZE[i][j] == '.':\n",
    "                surface.blit(SWITCH_TEXTURE, (j * DEFAULT_BLOCK_SIZE + DEFAULT_BLOCK_SIZE/4, i * DEFAULT_BLOCK_SIZE + DEFAULT_BLOCK_SIZE/4))\n",
    "            if MAZE[i][j] == '*':\n",
    "                surface.blit(STONE_ON_SWITCH_TEXTURE, (j * DEFAULT_BLOCK_SIZE, i * DEFAULT_BLOCK_SIZE))\n",
    "            if MAZE[i][j] == '+':\n",
    "                surface.blit(ARES_ON_SWITCH_TEXTURE, (j * DEFAULT_BLOCK_SIZE, i * DEFAULT_BLOCK_SIZE))\n",
    "    return"
   ]
  },
  {
   "cell_type": "code",
   "execution_count": 172,
   "metadata": {},
   "outputs": [],
   "source": [
    "RUNNING = True\n",
    "pygame.init()\n",
    "\n",
    "screen = pygame.display.set_mode(SIZE)\n",
    "clock = pygame.time.Clock()\n",
    "screen.fill((250, 246, 229))\n",
    "draw_maze(screen)\n",
    "\n",
    "\n",
    "while RUNNING:\n",
    "    for event in pygame.event.get():\n",
    "        if event.type == pygame.QUIT:\n",
    "            RUNNING = False\n",
    "            \n",
    "\n",
    "    pygame.display.flip()\n",
    "    clock.tick(60)\n",
    "\n",
    "pygame.quit()"
   ]
  }
 ],
 "metadata": {
  "kernelspec": {
   "display_name": "ai-lab",
   "language": "python",
   "name": "python3"
  },
  "language_info": {
   "codemirror_mode": {
    "name": "ipython",
    "version": 3
   },
   "file_extension": ".py",
   "mimetype": "text/x-python",
   "name": "python",
   "nbconvert_exporter": "python",
   "pygments_lexer": "ipython3",
   "version": "3.10.15"
  }
 },
 "nbformat": 4,
 "nbformat_minor": 2
}
