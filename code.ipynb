{
 "cells": [
  {
   "cell_type": "code",
   "execution_count": 1,
   "metadata": {},
   "outputs": [],
   "source": [
    "import os\n",
    "import turtle"
   ]
  },
  {
   "cell_type": "code",
   "execution_count": 2,
   "metadata": {},
   "outputs": [
    {
     "name": "stdout",
     "output_type": "stream",
     "text": [
      "99 1\n",
      " ###########\n",
      "#          #\n",
      "#          #\n",
      "# $ $      #\n",
      "#. @      .#\n",
      "############\n",
      "6\n",
      "12\n",
      "['99 1', ' ###########', '#          #', '#          #', '# $ $      #', '#. @      .#', '############']\n",
      "[99, 1]\n"
     ]
    }
   ],
   "source": [
    "# parsing input\n",
    "f = os.open(\"input/input1.txt\", os.O_RDWR)\n",
    "s = os.read(f, 1000)\n",
    "print(s.decode())\n",
    "lines = s.decode().split(\"\\n\")\n",
    "weights = [int(x) for x in lines[0].split(\" \")]\n",
    "n = len(lines) - 1\n",
    "m = len(lines[1])\n",
    "print(n)\n",
    "print(m)\n",
    "print(lines)\n",
    "print(weights)"
   ]
  },
  {
   "cell_type": "code",
   "execution_count": 3,
   "metadata": {},
   "outputs": [
    {
     "name": "stdout",
     "output_type": "stream",
     "text": [
      " ###########\n",
      "#          #\n",
      "#          #\n",
      "# $ $      #\n",
      "#. @      .#\n",
      "############\n",
      "\n",
      "\n",
      "[[3, 2, 99], [3, 4, 1]]\n",
      "[[4, 1, False], [4, 10, False]]\n",
      "[4, 3]\n"
     ]
    }
   ],
   "source": [
    "## input\n",
    "#99 1\n",
    " ###########\n",
    "#          #\n",
    "#          #\n",
    "# $ $      #\n",
    "#. @      .#\n",
    "############\n",
    "\n",
    "visited = set()\n",
    "stone_array = []\n",
    "switch_array = []\n",
    "Ares = [0,0]\n",
    "maze_array = [[0 for x in range(m)] for y in range(n)]\n",
    "move_history = \"\"\n",
    "\n",
    "for i in range(0, n):\n",
    "    maze_array[i] = list(maze_array[i])\n",
    "    for j in range(0, m):\n",
    "        maze_array[i][j] = lines[i+1][j]\n",
    "        if maze_array[i][j] == \"@\":\n",
    "            Ares = [i,j]\n",
    "        if maze_array[i][j] == \"$\":\n",
    "            stone_array.append([i,j, weights[len(stone_array)]])\n",
    "        if maze_array[i][j] == \".\":\n",
    "            switch_array.append([i,j, False])\n",
    "        if maze_array[i][j] == \"*\":\n",
    "            switch_array.append([i,j, True])\n",
    "            stone_array.append([i,j, weights[len(stone_array)]])\n",
    "        if maze_array[i][j] == \"+\":\n",
    "            Ares = [i,j]\n",
    "            switch_array.append([i,j, False])\n",
    "        \n",
    "\n",
    "for row in maze_array:\n",
    "    print(\"\".join(row))\n",
    "print(\"\\n\")\n",
    "print(stone_array)\n",
    "print(switch_array)\n",
    "print(Ares)\n"
   ]
  },
  {
   "cell_type": "code",
   "execution_count": 5,
   "metadata": {},
   "outputs": [],
   "source": [
    "def goal_test():\n",
    "    for switch in switch_array:\n",
    "        if switch[2] == False:\n",
    "            return False\n",
    "    return True\n",
    "\n",
    "def check_movable(dx, dy):\n",
    "    obj = maze_array[Ares[0] + dx][Ares[1] + dy]\n",
    "    if obj == '#': # if there is a wall\n",
    "        return False\n",
    "    if obj in ['$','*']: # if there is a stone\n",
    "        obstacle = maze_array[Ares[0] + 2 * dx][Ares[1] + 2 * dy]\n",
    "        if obstacle in ['$','*','#']: # if there is a wall or stone\n",
    "            return False\n",
    "    return True\n",
    "\n",
    "def check_visited\n"
   ]
  },
  {
   "cell_type": "code",
   "execution_count": null,
   "metadata": {},
   "outputs": [],
   "source": [
    "def discover(dx, dy, data_structure):\n",
    "    if check_movable(dx, dy) == False:\n",
    "        return;\n",
    "    \n",
    "    c = 'a'\n",
    "    if dx == 1:\n",
    "        c = 'r'\n",
    "    if dx == -1:\n",
    "        c = 'l'\n",
    "    if dy == 1:\n",
    "        c = 'd'\n",
    "    if dy == -1:\n",
    "        c = 'u'\n",
    "\n",
    "    moved_his = move_history\n",
    "    moved_stones = stone_array.copy()\n",
    "    moved_switchs = switch_array.copy()\n",
    "    moved_Ares = Ares.copy();\n",
    "    x = Ares[0]\n",
    "    y = Ares[1]\n",
    "    obj = maze_array[x + dx][y +dy]\n",
    "\n",
    "    if obj == '$':\n",
    "        c = c.upper()\n",
    "        next_obj = maze_array[x + 2 * dx][y + 2 * dy]\n",
    "        if next_obj == '.':\n",
    "            maze_array[x + 2 * dx][y + 2 * dy] = '*'\n",
    "            moved_switchs = [\n",
    "                [xi, yi, True] if (xi == x + 2 * dx and y == y + 2 * dy) else [xi, yi, bi]\n",
    "                for xi, yi, bi in moved_switchs\n",
    "            ]\n",
    "        else:\n",
    "            maze_array[x + 2 * dx][y + 2 * dy] = '$'\n",
    "        moved_stones = [\n",
    "            [x + 2 * dx, y + 2 * dy, wi] if (xi == x + dx and yi == y + dy) else [xi, yi, wi] \n",
    "            for xi, yi, wi in moved_stones\n",
    "        ]\n",
    "    elif obj == '.':\n",
    "        maze_array[x + dx][y + dy] = '+'\n",
    "    else:\n",
    "        maze_array[x + dx][y + dy] = '@'\n",
    "\n",
    "    moved_Ares = [x + dx,y + dy]\n",
    "    moved_his += c\n",
    "    maze_array[x][y] = ' '\n"
   ]
  },
  {
   "cell_type": "code",
   "execution_count": null,
   "metadata": {},
   "outputs": [],
   "source": [
    "def search():\n",
    "    "
   ]
  },
  {
   "cell_type": "code",
   "execution_count": 8,
   "metadata": {},
   "outputs": [
    {
     "name": "stdout",
     "output_type": "stream",
     "text": [
      "True\n"
     ]
    }
   ],
   "source": [
    "a = [1,2,3]\n",
    "b = [1,2,3]\n",
    "print(a == b)"
   ]
  }
 ],
 "metadata": {
  "kernelspec": {
   "display_name": "ai-lab",
   "language": "python",
   "name": "python3"
  },
  "language_info": {
   "codemirror_mode": {
    "name": "ipython",
    "version": 3
   },
   "file_extension": ".py",
   "mimetype": "text/x-python",
   "name": "python",
   "nbconvert_exporter": "python",
   "pygments_lexer": "ipython3",
   "version": "3.10.15"
  }
 },
 "nbformat": 4,
 "nbformat_minor": 2
}
